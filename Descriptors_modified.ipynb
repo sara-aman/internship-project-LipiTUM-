{
 "cells": [
  {
   "cell_type": "code",
   "execution_count": 182,
   "id": "b0170c4b",
   "metadata": {},
   "outputs": [],
   "source": [
    "# import the required packages first\n",
    "import pandas as pd"
   ]
  },
  {
   "cell_type": "code",
   "execution_count": 183,
   "id": "aa64d97c",
   "metadata": {},
   "outputs": [
    {
     "name": "stdout",
     "output_type": "stream",
     "text": [
      "<class 'pandas.core.frame.DataFrame'>\n",
      "RangeIndex: 4009 entries, 0 to 4008\n",
      "Data columns (total 8 columns):\n",
      " #   Column       Non-Null Count  Dtype  \n",
      "---  ------       --------------  -----  \n",
      " 0   id           4009 non-null   int64  \n",
      " 1   external_id  4009 non-null   object \n",
      " 2   annotations  4009 non-null   object \n",
      " 3   compound_id  4009 non-null   int64  \n",
      " 4   creator_id   0 non-null      float64\n",
      " 5   updater_id   0 non-null      float64\n",
      " 6   created_at   4009 non-null   object \n",
      " 7   updated_at   4009 non-null   object \n",
      "dtypes: float64(2), int64(2), object(4)\n",
      "memory usage: 250.7+ KB\n"
     ]
    },
    {
     "data": {
      "text/html": [
       "<div>\n",
       "<style scoped>\n",
       "    .dataframe tbody tr th:only-of-type {\n",
       "        vertical-align: middle;\n",
       "    }\n",
       "\n",
       "    .dataframe tbody tr th {\n",
       "        vertical-align: top;\n",
       "    }\n",
       "\n",
       "    .dataframe thead th {\n",
       "        text-align: right;\n",
       "    }\n",
       "</style>\n",
       "<table border=\"1\" class=\"dataframe\">\n",
       "  <thead>\n",
       "    <tr style=\"text-align: right;\">\n",
       "      <th></th>\n",
       "      <th>id</th>\n",
       "      <th>external_id</th>\n",
       "      <th>annotations</th>\n",
       "      <th>compound_id</th>\n",
       "      <th>creator_id</th>\n",
       "      <th>updater_id</th>\n",
       "      <th>created_at</th>\n",
       "      <th>updated_at</th>\n",
       "    </tr>\n",
       "  </thead>\n",
       "  <tbody>\n",
       "    <tr>\n",
       "      <th>0</th>\n",
       "      <td>1</td>\n",
       "      <td>CHEBI:6584</td>\n",
       "      <td>anthocyanidin cation\\n</td>\n",
       "      <td>78</td>\n",
       "      <td>NaN</td>\n",
       "      <td>NaN</td>\n",
       "      <td>2015-02-23 22:40:02 UTC</td>\n",
       "      <td>2015-02-23 22:40:02 UTC</td>\n",
       "    </tr>\n",
       "    <tr>\n",
       "      <th>1</th>\n",
       "      <td>2</td>\n",
       "      <td>C08652</td>\n",
       "      <td>Anthocyanidins and anthocyanins\\n</td>\n",
       "      <td>78</td>\n",
       "      <td>NaN</td>\n",
       "      <td>NaN</td>\n",
       "      <td>2015-02-23 22:40:02 UTC</td>\n",
       "      <td>2015-02-23 22:40:02 UTC</td>\n",
       "    </tr>\n",
       "    <tr>\n",
       "      <th>2</th>\n",
       "      <td>3</td>\n",
       "      <td>CPD-11945</td>\n",
       "      <td>a small molecule\\n</td>\n",
       "      <td>78</td>\n",
       "      <td>NaN</td>\n",
       "      <td>NaN</td>\n",
       "      <td>2015-02-23 22:40:02 UTC</td>\n",
       "      <td>2015-02-23 22:40:02 UTC</td>\n",
       "    </tr>\n",
       "    <tr>\n",
       "      <th>3</th>\n",
       "      <td>4</td>\n",
       "      <td>LMPK12120534</td>\n",
       "      <td>Chalcones and dihydrochalcones\\n</td>\n",
       "      <td>87</td>\n",
       "      <td>NaN</td>\n",
       "      <td>NaN</td>\n",
       "      <td>2015-02-23 22:40:07 UTC</td>\n",
       "      <td>2015-02-23 22:40:07 UTC</td>\n",
       "    </tr>\n",
       "    <tr>\n",
       "      <th>4</th>\n",
       "      <td>5</td>\n",
       "      <td>CHEBI:76132</td>\n",
       "      <td>polyphenol\\ngallate ester\\ncatechin\\n</td>\n",
       "      <td>97</td>\n",
       "      <td>NaN</td>\n",
       "      <td>NaN</td>\n",
       "      <td>2015-02-23 22:40:09 UTC</td>\n",
       "      <td>2015-02-23 22:40:09 UTC</td>\n",
       "    </tr>\n",
       "    <tr>\n",
       "      <th>5</th>\n",
       "      <td>6</td>\n",
       "      <td>LMPK12020089</td>\n",
       "      <td>Flavans, Flavanols and Leucoanthocyanidins\\n</td>\n",
       "      <td>97</td>\n",
       "      <td>NaN</td>\n",
       "      <td>NaN</td>\n",
       "      <td>2015-02-23 22:40:09 UTC</td>\n",
       "      <td>2015-02-23 22:40:09 UTC</td>\n",
       "    </tr>\n",
       "    <tr>\n",
       "      <th>6</th>\n",
       "      <td>7</td>\n",
       "      <td>CHEBI:18010</td>\n",
       "      <td>trihydroxyflavone\\ndimethoxyflavone\\n</td>\n",
       "      <td>176</td>\n",
       "      <td>NaN</td>\n",
       "      <td>NaN</td>\n",
       "      <td>2015-02-23 22:40:15 UTC</td>\n",
       "      <td>2015-02-23 22:40:15 UTC</td>\n",
       "    </tr>\n",
       "  </tbody>\n",
       "</table>\n",
       "</div>"
      ],
      "text/plain": [
       "   id   external_id                                   annotations  \\\n",
       "0   1    CHEBI:6584                        anthocyanidin cation\\n   \n",
       "1   2        C08652             Anthocyanidins and anthocyanins\\n   \n",
       "2   3     CPD-11945                            a small molecule\\n   \n",
       "3   4  LMPK12120534              Chalcones and dihydrochalcones\\n   \n",
       "4   5   CHEBI:76132         polyphenol\\ngallate ester\\ncatechin\\n   \n",
       "5   6  LMPK12020089  Flavans, Flavanols and Leucoanthocyanidins\\n   \n",
       "6   7   CHEBI:18010         trihydroxyflavone\\ndimethoxyflavone\\n   \n",
       "\n",
       "   compound_id  creator_id  updater_id               created_at  \\\n",
       "0           78         NaN         NaN  2015-02-23 22:40:02 UTC   \n",
       "1           78         NaN         NaN  2015-02-23 22:40:02 UTC   \n",
       "2           78         NaN         NaN  2015-02-23 22:40:02 UTC   \n",
       "3           87         NaN         NaN  2015-02-23 22:40:07 UTC   \n",
       "4           97         NaN         NaN  2015-02-23 22:40:09 UTC   \n",
       "5           97         NaN         NaN  2015-02-23 22:40:09 UTC   \n",
       "6          176         NaN         NaN  2015-02-23 22:40:15 UTC   \n",
       "\n",
       "                updated_at  \n",
       "0  2015-02-23 22:40:02 UTC  \n",
       "1  2015-02-23 22:40:02 UTC  \n",
       "2  2015-02-23 22:40:02 UTC  \n",
       "3  2015-02-23 22:40:07 UTC  \n",
       "4  2015-02-23 22:40:09 UTC  \n",
       "5  2015-02-23 22:40:09 UTC  \n",
       "6  2015-02-23 22:40:15 UTC  "
      ]
     },
     "execution_count": 183,
     "metadata": {},
     "output_type": "execute_result"
    }
   ],
   "source": [
    "Original_ExternalDescriptor= pd.read_csv('/Users/Sara/Desktop/git_101/FooDB/CompoundExternalDescriptor.csv')\n",
    "Original_ExternalDescriptor.info()\n",
    "Original_ExternalDescriptor.head(7)"
   ]
  },
  {
   "cell_type": "code",
   "execution_count": 184,
   "id": "60775ac0",
   "metadata": {},
   "outputs": [
    {
     "name": "stdout",
     "output_type": "stream",
     "text": [
      "<class 'pandas.core.frame.DataFrame'>\n",
      "Int64Index: 2553 entries, 0 to 4007\n",
      "Data columns (total 1 columns):\n",
      " #   Column       Non-Null Count  Dtype\n",
      "---  ------       --------------  -----\n",
      " 0   compound_id  2553 non-null   int64\n",
      "dtypes: int64(1)\n",
      "memory usage: 39.9 KB\n"
     ]
    }
   ],
   "source": [
    "len(Original_ExternalDescriptor.compound_id.unique())\n",
    "Processed_ExternalDescriptor= Original_ExternalDescriptor.drop(columns=['id','annotations','creator_id','updater_id','created_at','updated_at','external_id'], axis=1)\n",
    "Main= Processed_ExternalDescriptor.drop_duplicates()\n",
    "Main.info()"
   ]
  },
  {
   "cell_type": "code",
   "execution_count": 189,
   "id": "f5ba789a",
   "metadata": {},
   "outputs": [
    {
     "name": "stdout",
     "output_type": "stream",
     "text": [
      "      compound_id        ChEBI\n",
      "0              78   CHEBI:6584\n",
      "4              97  CHEBI:76132\n",
      "6             176  CHEBI:18010\n",
      "11            275  CHEBI:75489\n",
      "12            316  CHEBI:41941\n",
      "...           ...          ...\n",
      "3993        29771  CHEBI:73723\n",
      "3996        29778  CHEBI:78759\n",
      "3999        29781  CHEBI:71465\n",
      "4001        29974  CHEBI:50399\n",
      "4004        29977  CHEBI:69437\n",
      "\n",
      "[1816 rows x 2 columns]\n"
     ]
    }
   ],
   "source": [
    "ChEBI= Original_ExternalDescriptor.loc[Original_ExternalDescriptor.external_id.str.contains('CHEBI'),['compound_id','external_id']]\n",
    "ChEBI.rename(columns={'external_id':'ChEBI'}, inplace=True)\n",
    "print(ChEBI)"
   ]
  },
  {
   "cell_type": "code",
   "execution_count": 190,
   "id": "1b6d5c41",
   "metadata": {},
   "outputs": [
    {
     "data": {
      "text/html": [
       "<div>\n",
       "<style scoped>\n",
       "    .dataframe tbody tr th:only-of-type {\n",
       "        vertical-align: middle;\n",
       "    }\n",
       "\n",
       "    .dataframe tbody tr th {\n",
       "        vertical-align: top;\n",
       "    }\n",
       "\n",
       "    .dataframe thead th {\n",
       "        text-align: right;\n",
       "    }\n",
       "</style>\n",
       "<table border=\"1\" class=\"dataframe\">\n",
       "  <thead>\n",
       "    <tr style=\"text-align: right;\">\n",
       "      <th></th>\n",
       "      <th>compound_id</th>\n",
       "      <th>ChEBI</th>\n",
       "    </tr>\n",
       "  </thead>\n",
       "  <tbody>\n",
       "    <tr>\n",
       "      <th>319</th>\n",
       "      <td>1161</td>\n",
       "      <td>CHEBI:62084</td>\n",
       "    </tr>\n",
       "    <tr>\n",
       "      <th>1061</th>\n",
       "      <td>8291</td>\n",
       "      <td>CHEBI:19092</td>\n",
       "    </tr>\n",
       "  </tbody>\n",
       "</table>\n",
       "</div>"
      ],
      "text/plain": [
       "      compound_id        ChEBI\n",
       "319          1161  CHEBI:62084\n",
       "1061         8291  CHEBI:19092"
      ]
     },
     "execution_count": 190,
     "metadata": {},
     "output_type": "execute_result"
    }
   ],
   "source": [
    "ChEBI.loc[ChEBI.compound_id.duplicated()]"
   ]
  },
  {
   "cell_type": "code",
   "execution_count": 191,
   "id": "bbebf1e8",
   "metadata": {},
   "outputs": [
    {
     "data": {
      "text/html": [
       "<div>\n",
       "<style scoped>\n",
       "    .dataframe tbody tr th:only-of-type {\n",
       "        vertical-align: middle;\n",
       "    }\n",
       "\n",
       "    .dataframe tbody tr th {\n",
       "        vertical-align: top;\n",
       "    }\n",
       "\n",
       "    .dataframe thead th {\n",
       "        text-align: right;\n",
       "    }\n",
       "</style>\n",
       "<table border=\"1\" class=\"dataframe\">\n",
       "  <thead>\n",
       "    <tr style=\"text-align: right;\">\n",
       "      <th></th>\n",
       "      <th>ChEBI</th>\n",
       "    </tr>\n",
       "    <tr>\n",
       "      <th>compound_id</th>\n",
       "      <th></th>\n",
       "    </tr>\n",
       "  </thead>\n",
       "  <tbody>\n",
       "    <tr>\n",
       "      <th>1161</th>\n",
       "      <td>CHEBI:47962,CHEBI:62084</td>\n",
       "    </tr>\n",
       "    <tr>\n",
       "      <th>8291</th>\n",
       "      <td>CHEBI:33135,CHEBI:19092</td>\n",
       "    </tr>\n",
       "  </tbody>\n",
       "</table>\n",
       "</div>"
      ],
      "text/plain": [
       "                               ChEBI\n",
       "compound_id                         \n",
       "1161         CHEBI:47962,CHEBI:62084\n",
       "8291         CHEBI:33135,CHEBI:19092"
      ]
     },
     "execution_count": 191,
     "metadata": {},
     "output_type": "execute_result"
    }
   ],
   "source": [
    "ChEBI.loc[ChEBI.compound_id.isin(ChEBI.loc[ChEBI.compound_id.duplicated()].compound_id)].groupby('compound_id').agg({'ChEBI':','.join})"
   ]
  },
  {
   "cell_type": "code",
   "execution_count": 192,
   "id": "528877ca",
   "metadata": {},
   "outputs": [
    {
     "name": "stdout",
     "output_type": "stream",
     "text": [
      "                   ChEBI\n",
      "compound_id             \n",
      "78            CHEBI:6584\n",
      "97           CHEBI:76132\n",
      "176          CHEBI:18010\n",
      "275          CHEBI:75489\n",
      "316          CHEBI:41941\n",
      "...                  ...\n",
      "29771        CHEBI:73723\n",
      "29778        CHEBI:78759\n",
      "29781        CHEBI:71465\n",
      "29974        CHEBI:50399\n",
      "29977        CHEBI:69437\n",
      "\n",
      "[1814 rows x 1 columns]\n"
     ]
    }
   ],
   "source": [
    "ChEBI_new= ChEBI.groupby('compound_id').agg({'ChEBI':','.join})\n",
    "print(ChEBI_new)"
   ]
  },
  {
   "cell_type": "code",
   "execution_count": 197,
   "id": "93a92eee",
   "metadata": {},
   "outputs": [
    {
     "name": "stdout",
     "output_type": "stream",
     "text": [
      "      compound_id    KEGG\n",
      "1              78  C08652\n",
      "7             176  C01265\n",
      "16            362  C00951\n",
      "25            433  C00483\n",
      "27            435  C02442\n",
      "...           ...     ...\n",
      "3991        29766  C13829\n",
      "3997        29778  C13914\n",
      "4002        29974  C14313\n",
      "4005        29977  C10510\n",
      "4007        30091  C10504\n",
      "\n",
      "[656 rows x 2 columns]\n"
     ]
    }
   ],
   "source": [
    "KEGG= Original_ExternalDescriptor.loc[Original_ExternalDescriptor.external_id.str.contains(r'^[C]\\d{5}$'),['compound_id','external_id']]\n",
    "KEGG.rename(columns={'external_id':'KEGG'}, inplace=True)\n",
    "print(KEGG)"
   ]
  },
  {
   "cell_type": "code",
   "execution_count": 198,
   "id": "ab4720e1",
   "metadata": {},
   "outputs": [
    {
     "data": {
      "text/html": [
       "<div>\n",
       "<style scoped>\n",
       "    .dataframe tbody tr th:only-of-type {\n",
       "        vertical-align: middle;\n",
       "    }\n",
       "\n",
       "    .dataframe tbody tr th {\n",
       "        vertical-align: top;\n",
       "    }\n",
       "\n",
       "    .dataframe thead th {\n",
       "        text-align: right;\n",
       "    }\n",
       "</style>\n",
       "<table border=\"1\" class=\"dataframe\">\n",
       "  <thead>\n",
       "    <tr style=\"text-align: right;\">\n",
       "      <th></th>\n",
       "      <th>KEGG</th>\n",
       "    </tr>\n",
       "    <tr>\n",
       "      <th>compound_id</th>\n",
       "      <th></th>\n",
       "    </tr>\n",
       "  </thead>\n",
       "  <tbody>\n",
       "  </tbody>\n",
       "</table>\n",
       "</div>"
      ],
      "text/plain": [
       "Empty DataFrame\n",
       "Columns: [KEGG]\n",
       "Index: []"
      ]
     },
     "execution_count": 198,
     "metadata": {},
     "output_type": "execute_result"
    }
   ],
   "source": [
    "KEGG.loc[KEGG.compound_id.isin(KEGG.loc[KEGG.compound_id.duplicated()].compound_id)].groupby('compound_id').agg({'KEGG':','.join})"
   ]
  },
  {
   "cell_type": "code",
   "execution_count": 200,
   "id": "23585789",
   "metadata": {},
   "outputs": [
    {
     "name": "stdout",
     "output_type": "stream",
     "text": [
      "      compound_id     Lipidmaps\n",
      "3              87  LMPK12120534\n",
      "5              97  LMPK12020089\n",
      "8             176  LMPK12112731\n",
      "10            218  LMPK12113021\n",
      "17            362  LMST02010001\n",
      "...           ...           ...\n",
      "3998        29778  LMSP01070001\n",
      "4000        29781  LMFA08040043\n",
      "4003        29974  LMPK12050055\n",
      "4006        29977  LMPK12050251\n",
      "4008        30091  LMPK12100004\n",
      "\n",
      "[1049 rows x 2 columns]\n"
     ]
    }
   ],
   "source": [
    "Lipidmaps_Keywords= ['LMPK','LMFA','LMST','LMGP','LMSP','LMGL','LMPR']\n",
    "Lipidmaps= Original_ExternalDescriptor.loc[Original_ExternalDescriptor.external_id.str.startswith(tuple(Lipidmaps_Keywords)),['compound_id','external_id']]\n",
    "Lipidmaps.rename(columns={'external_id':'Lipidmaps'}, inplace=True)\n",
    "print(Lipidmaps)"
   ]
  },
  {
   "cell_type": "code",
   "execution_count": 201,
   "id": "561fe8db",
   "metadata": {},
   "outputs": [
    {
     "data": {
      "text/html": [
       "<div>\n",
       "<style scoped>\n",
       "    .dataframe tbody tr th:only-of-type {\n",
       "        vertical-align: middle;\n",
       "    }\n",
       "\n",
       "    .dataframe tbody tr th {\n",
       "        vertical-align: top;\n",
       "    }\n",
       "\n",
       "    .dataframe thead th {\n",
       "        text-align: right;\n",
       "    }\n",
       "</style>\n",
       "<table border=\"1\" class=\"dataframe\">\n",
       "  <thead>\n",
       "    <tr style=\"text-align: right;\">\n",
       "      <th></th>\n",
       "      <th>Lipidmaps</th>\n",
       "    </tr>\n",
       "    <tr>\n",
       "      <th>compound_id</th>\n",
       "      <th></th>\n",
       "    </tr>\n",
       "  </thead>\n",
       "  <tbody>\n",
       "  </tbody>\n",
       "</table>\n",
       "</div>"
      ],
      "text/plain": [
       "Empty DataFrame\n",
       "Columns: [Lipidmaps]\n",
       "Index: []"
      ]
     },
     "execution_count": 201,
     "metadata": {},
     "output_type": "execute_result"
    }
   ],
   "source": [
    "Lipidmaps.loc[Lipidmaps.compound_id.isin(Lipidmaps.loc[Lipidmaps.compound_id.duplicated()].compound_id)].groupby('compound_id').agg({'Lipidmaps':','.join})"
   ]
  },
  {
   "cell_type": "code",
   "execution_count": 145,
   "id": "f5bd5b3e",
   "metadata": {},
   "outputs": [
    {
     "name": "stdout",
     "output_type": "stream",
     "text": [
      "      compound_id     BioCyc\n",
      "2              78  CPD-11945\n",
      "14            358  CPD-10596\n",
      "45            453  CPD-12479\n",
      "54            470  CPD0-2189\n",
      "87            578  CPD-13041\n",
      "...           ...        ...\n",
      "3908        29044    CPD-387\n",
      "3912        29050   CPD-4609\n",
      "3950        29358  CPD-10687\n",
      "3963        29471  CPD-12574\n",
      "3967        29505  CPD0-1675\n",
      "\n",
      "[250 rows x 2 columns]\n"
     ]
    }
   ],
   "source": [
    "BioCyc= Original_ExternalDescriptor.loc[Original_ExternalDescriptor.external_id.str.startswith('CPD'),['compound_id','external_id']]\n",
    "BioCyc.rename(columns={'external_id':'BioCyc'}, inplace=True)\n",
    "print(BioCyc)"
   ]
  },
  {
   "cell_type": "code",
   "execution_count": 202,
   "id": "3a3e303f",
   "metadata": {},
   "outputs": [
    {
     "data": {
      "text/html": [
       "<div>\n",
       "<style scoped>\n",
       "    .dataframe tbody tr th:only-of-type {\n",
       "        vertical-align: middle;\n",
       "    }\n",
       "\n",
       "    .dataframe tbody tr th {\n",
       "        vertical-align: top;\n",
       "    }\n",
       "\n",
       "    .dataframe thead th {\n",
       "        text-align: right;\n",
       "    }\n",
       "</style>\n",
       "<table border=\"1\" class=\"dataframe\">\n",
       "  <thead>\n",
       "    <tr style=\"text-align: right;\">\n",
       "      <th></th>\n",
       "      <th>BioCyc</th>\n",
       "    </tr>\n",
       "    <tr>\n",
       "      <th>compound_id</th>\n",
       "      <th></th>\n",
       "    </tr>\n",
       "  </thead>\n",
       "  <tbody>\n",
       "  </tbody>\n",
       "</table>\n",
       "</div>"
      ],
      "text/plain": [
       "Empty DataFrame\n",
       "Columns: [BioCyc]\n",
       "Index: []"
      ]
     },
     "execution_count": 202,
     "metadata": {},
     "output_type": "execute_result"
    }
   ],
   "source": [
    "BioCyc.loc[BioCyc.compound_id.isin(BioCyc.loc[BioCyc.compound_id.duplicated()].compound_id)].groupby('compound_id').agg({'BioCyc':','.join})"
   ]
  },
  {
   "cell_type": "code",
   "execution_count": 147,
   "id": "0e1779de",
   "metadata": {},
   "outputs": [],
   "source": [
    "x= ['CHEBI','LMPK','LMFA','LMST','LMGP','LMSP','LMGL','LMPR','CPD']\n",
    "Unkown_db_= Original_ExternalDescriptor.loc[~Original_ExternalDescriptor.external_id.str.startswith(tuple(x)),['compound_id','external_id']]\n",
    "Unkown_db= Unkown_db_.loc[~Unkown_db_.external_id.str.contains(r'^[C]\\d{5}$'),['compound_id','external_id']]"
   ]
  },
  {
   "cell_type": "code",
   "execution_count": 148,
   "id": "02143cfc",
   "metadata": {},
   "outputs": [
    {
     "name": "stdout",
     "output_type": "stream",
     "text": [
      "      compound_id                           Unkown_db\n",
      "9             176  345-TRIHYDROXY-37-DIMETHOXYFLAVONE\n",
      "30            436                        SANGUINARINE\n",
      "36            442                   2-HYDROXYDAIDZEIN\n",
      "48            455                3-7-DIMETHYLXANTHINE\n",
      "66            520    NALPHANALPHANALPHA-TRIMETHYL-L-H\n",
      "...           ...                                 ...\n",
      "3884        28974                    3-DE-H-CARNITINE\n",
      "3898        29023               DIMETHYLARSINOUS-ACID\n",
      "3924        29083                  TRIMETHYLSULFONIUM\n",
      "3953        29384                                FE+3\n",
      "3958        29424                            PARAOXON\n",
      "\n",
      "[238 rows x 2 columns]\n"
     ]
    }
   ],
   "source": [
    "Unkown_db.rename(columns={'external_id':'Unkown_db'}, inplace=True)\n",
    "print(Unkown_db)"
   ]
  },
  {
   "cell_type": "code",
   "execution_count": 203,
   "id": "2434e4bd",
   "metadata": {},
   "outputs": [
    {
     "data": {
      "text/html": [
       "<div>\n",
       "<style scoped>\n",
       "    .dataframe tbody tr th:only-of-type {\n",
       "        vertical-align: middle;\n",
       "    }\n",
       "\n",
       "    .dataframe tbody tr th {\n",
       "        vertical-align: top;\n",
       "    }\n",
       "\n",
       "    .dataframe thead th {\n",
       "        text-align: right;\n",
       "    }\n",
       "</style>\n",
       "<table border=\"1\" class=\"dataframe\">\n",
       "  <thead>\n",
       "    <tr style=\"text-align: right;\">\n",
       "      <th></th>\n",
       "      <th>Unkown_db</th>\n",
       "    </tr>\n",
       "    <tr>\n",
       "      <th>compound_id</th>\n",
       "      <th></th>\n",
       "    </tr>\n",
       "  </thead>\n",
       "  <tbody>\n",
       "  </tbody>\n",
       "</table>\n",
       "</div>"
      ],
      "text/plain": [
       "Empty DataFrame\n",
       "Columns: [Unkown_db]\n",
       "Index: []"
      ]
     },
     "execution_count": 203,
     "metadata": {},
     "output_type": "execute_result"
    }
   ],
   "source": [
    "Unkown_db.loc[Unkown_db.compound_id.isin(Unkown_db.loc[Unkown_db.compound_id.duplicated()].compound_id)].groupby('compound_id').agg({'Unkown_db':','.join})"
   ]
  },
  {
   "cell_type": "markdown",
   "id": "4d85eb2c",
   "metadata": {},
   "source": [
    "## Merging all dfs "
   ]
  },
  {
   "cell_type": "code",
   "execution_count": 194,
   "id": "4b165386",
   "metadata": {},
   "outputs": [
    {
     "data": {
      "text/html": [
       "<div>\n",
       "<style scoped>\n",
       "    .dataframe tbody tr th:only-of-type {\n",
       "        vertical-align: middle;\n",
       "    }\n",
       "\n",
       "    .dataframe tbody tr th {\n",
       "        vertical-align: top;\n",
       "    }\n",
       "\n",
       "    .dataframe thead th {\n",
       "        text-align: right;\n",
       "    }\n",
       "</style>\n",
       "<table border=\"1\" class=\"dataframe\">\n",
       "  <thead>\n",
       "    <tr style=\"text-align: right;\">\n",
       "      <th></th>\n",
       "      <th>compound_id</th>\n",
       "      <th>ChEBI</th>\n",
       "    </tr>\n",
       "  </thead>\n",
       "  <tbody>\n",
       "    <tr>\n",
       "      <th>0</th>\n",
       "      <td>78</td>\n",
       "      <td>CHEBI:6584</td>\n",
       "    </tr>\n",
       "    <tr>\n",
       "      <th>1</th>\n",
       "      <td>87</td>\n",
       "      <td>NaN</td>\n",
       "    </tr>\n",
       "    <tr>\n",
       "      <th>2</th>\n",
       "      <td>97</td>\n",
       "      <td>CHEBI:76132</td>\n",
       "    </tr>\n",
       "    <tr>\n",
       "      <th>3</th>\n",
       "      <td>176</td>\n",
       "      <td>CHEBI:18010</td>\n",
       "    </tr>\n",
       "    <tr>\n",
       "      <th>4</th>\n",
       "      <td>218</td>\n",
       "      <td>NaN</td>\n",
       "    </tr>\n",
       "    <tr>\n",
       "      <th>...</th>\n",
       "      <td>...</td>\n",
       "      <td>...</td>\n",
       "    </tr>\n",
       "    <tr>\n",
       "      <th>2548</th>\n",
       "      <td>29778</td>\n",
       "      <td>CHEBI:78759</td>\n",
       "    </tr>\n",
       "    <tr>\n",
       "      <th>2549</th>\n",
       "      <td>29781</td>\n",
       "      <td>CHEBI:71465</td>\n",
       "    </tr>\n",
       "    <tr>\n",
       "      <th>2550</th>\n",
       "      <td>29974</td>\n",
       "      <td>CHEBI:50399</td>\n",
       "    </tr>\n",
       "    <tr>\n",
       "      <th>2551</th>\n",
       "      <td>29977</td>\n",
       "      <td>CHEBI:69437</td>\n",
       "    </tr>\n",
       "    <tr>\n",
       "      <th>2552</th>\n",
       "      <td>30091</td>\n",
       "      <td>NaN</td>\n",
       "    </tr>\n",
       "  </tbody>\n",
       "</table>\n",
       "<p>2553 rows × 2 columns</p>\n",
       "</div>"
      ],
      "text/plain": [
       "      compound_id        ChEBI\n",
       "0              78   CHEBI:6584\n",
       "1              87          NaN\n",
       "2              97  CHEBI:76132\n",
       "3             176  CHEBI:18010\n",
       "4             218          NaN\n",
       "...           ...          ...\n",
       "2548        29778  CHEBI:78759\n",
       "2549        29781  CHEBI:71465\n",
       "2550        29974  CHEBI:50399\n",
       "2551        29977  CHEBI:69437\n",
       "2552        30091          NaN\n",
       "\n",
       "[2553 rows x 2 columns]"
      ]
     },
     "execution_count": 194,
     "metadata": {},
     "output_type": "execute_result"
    }
   ],
   "source": [
    "df0= pd.merge(left=Main, right=ChEBI_new, how='left', on= 'compound_id')\n",
    "df0"
   ]
  },
  {
   "cell_type": "code",
   "execution_count": 209,
   "id": "6ec1d057",
   "metadata": {},
   "outputs": [
    {
     "data": {
      "text/html": [
       "<div>\n",
       "<style scoped>\n",
       "    .dataframe tbody tr th:only-of-type {\n",
       "        vertical-align: middle;\n",
       "    }\n",
       "\n",
       "    .dataframe tbody tr th {\n",
       "        vertical-align: top;\n",
       "    }\n",
       "\n",
       "    .dataframe thead th {\n",
       "        text-align: right;\n",
       "    }\n",
       "</style>\n",
       "<table border=\"1\" class=\"dataframe\">\n",
       "  <thead>\n",
       "    <tr style=\"text-align: right;\">\n",
       "      <th></th>\n",
       "      <th>compound_id</th>\n",
       "      <th>ChEBI</th>\n",
       "      <th>KEGG</th>\n",
       "      <th>Lipidmaps</th>\n",
       "      <th>BioCyc</th>\n",
       "      <th>Unkown_db</th>\n",
       "    </tr>\n",
       "  </thead>\n",
       "  <tbody>\n",
       "    <tr>\n",
       "      <th>0</th>\n",
       "      <td>78</td>\n",
       "      <td>CHEBI:6584</td>\n",
       "      <td>C08652</td>\n",
       "      <td>NaN</td>\n",
       "      <td>CPD-11945</td>\n",
       "      <td>NaN</td>\n",
       "    </tr>\n",
       "    <tr>\n",
       "      <th>1</th>\n",
       "      <td>87</td>\n",
       "      <td>NaN</td>\n",
       "      <td>NaN</td>\n",
       "      <td>LMPK12120534</td>\n",
       "      <td>NaN</td>\n",
       "      <td>NaN</td>\n",
       "    </tr>\n",
       "    <tr>\n",
       "      <th>2</th>\n",
       "      <td>97</td>\n",
       "      <td>CHEBI:76132</td>\n",
       "      <td>NaN</td>\n",
       "      <td>LMPK12020089</td>\n",
       "      <td>NaN</td>\n",
       "      <td>NaN</td>\n",
       "    </tr>\n",
       "    <tr>\n",
       "      <th>3</th>\n",
       "      <td>176</td>\n",
       "      <td>CHEBI:18010</td>\n",
       "      <td>C01265</td>\n",
       "      <td>LMPK12112731</td>\n",
       "      <td>NaN</td>\n",
       "      <td>345-TRIHYDROXY-37-DIMETHOXYFLAVONE</td>\n",
       "    </tr>\n",
       "    <tr>\n",
       "      <th>4</th>\n",
       "      <td>218</td>\n",
       "      <td>NaN</td>\n",
       "      <td>NaN</td>\n",
       "      <td>LMPK12113021</td>\n",
       "      <td>NaN</td>\n",
       "      <td>NaN</td>\n",
       "    </tr>\n",
       "  </tbody>\n",
       "</table>\n",
       "</div>"
      ],
      "text/plain": [
       "   compound_id        ChEBI    KEGG     Lipidmaps     BioCyc  \\\n",
       "0           78   CHEBI:6584  C08652           NaN  CPD-11945   \n",
       "1           87          NaN     NaN  LMPK12120534        NaN   \n",
       "2           97  CHEBI:76132     NaN  LMPK12020089        NaN   \n",
       "3          176  CHEBI:18010  C01265  LMPK12112731        NaN   \n",
       "4          218          NaN     NaN  LMPK12113021        NaN   \n",
       "\n",
       "                            Unkown_db  \n",
       "0                                 NaN  \n",
       "1                                 NaN  \n",
       "2                                 NaN  \n",
       "3  345-TRIHYDROXY-37-DIMETHOXYFLAVONE  \n",
       "4                                 NaN  "
      ]
     },
     "execution_count": 209,
     "metadata": {},
     "output_type": "execute_result"
    }
   ],
   "source": [
    "df1= pd.merge(left=df0, right=KEGG, how='left', on= 'compound_id')\n",
    "df2= pd.merge(left=df1, right=Lipidmaps, how='left', on= 'compound_id')\n",
    "df3= pd.merge(left=df2, right=BioCyc, how='left', on= 'compound_id')\n",
    "df4= pd.merge(left=df3, right=Unkown_db, how='left', on= 'compound_id')\n",
    "df4.head(5)"
   ]
  },
  {
   "cell_type": "code",
   "execution_count": 208,
   "id": "8a437749",
   "metadata": {},
   "outputs": [],
   "source": [
    "df4.to_csv('Descriptors_modified.csv')"
   ]
  }
 ],
 "metadata": {
  "kernelspec": {
   "display_name": "Python 3 (ipykernel)",
   "language": "python",
   "name": "python3"
  },
  "language_info": {
   "codemirror_mode": {
    "name": "ipython",
    "version": 3
   },
   "file_extension": ".py",
   "mimetype": "text/x-python",
   "name": "python",
   "nbconvert_exporter": "python",
   "pygments_lexer": "ipython3",
   "version": "3.9.12"
  }
 },
 "nbformat": 4,
 "nbformat_minor": 5
}
